{
 "cells": [
  {
   "cell_type": "code",
   "execution_count": 22,
   "metadata": {},
   "outputs": [],
   "source": [
    "from selenium import webdriver\n",
    "from webdriver_manager.chrome import ChromeDriverManager\n",
    "from selenium.webdriver.common.by import By\n",
    "from selenium.webdriver.support.ui import Select\n",
    "from bs4 import BeautifulSoup as Soup\n",
    "import pandas as pd\n",
    "from random import randint\n",
    "import string\n",
    "from time import sleep"
   ]
  },
  {
   "cell_type": "code",
   "execution_count": 23,
   "metadata": {},
   "outputs": [],
   "source": [
    "options = webdriver.ChromeOptions()\n",
    "options.add_argument('--headless')\n",
    "options.add_argument('--no-sandbox')\n",
    "options.add_argument('--disable-dev-shm-usage')\n",
    "driver = webdriver.Chrome('chromedriver', options=options)\n",
    "driver.implicitly_wait(10)"
   ]
  },
  {
   "cell_type": "code",
   "execution_count": 33,
   "metadata": {},
   "outputs": [
    {
     "name": "stderr",
     "output_type": "stream",
     "text": [
      "C:\\Users\\ycheng06\\AppData\\Local\\Temp\\ipykernel_24020\\3715090816.py:1: DeprecationWarning: executable_path has been deprecated, please pass in a Service object\n",
      "  driver = webdriver.Chrome(ChromeDriverManager().install())\n"
     ]
    }
   ],
   "source": [
    "driver = webdriver.Chrome(ChromeDriverManager().install())\n",
    "soup = Soup(driver.page_source,\"lxml\")\n",
    "driver.get('https://www.railway.gov.tw/tra-tip-web/tip')\n",
    "driver.execute_script(\"window.scrollTo(0, 500)\") "
   ]
  },
  {
   "cell_type": "code",
   "execution_count": 34,
   "metadata": {},
   "outputs": [],
   "source": [
    "driver.find_element(By.XPATH, \"//input[@id='startStation']\").send_keys('板橋')\n",
    "driver.find_element(By.XPATH, \"//input[@id='endStation']\").send_keys('台北')\n",
    "driver.find_element(By.XPATH, \"//input[@id='rideDate']\").send_keys('2023/05/20')\n",
    "select = Select(driver.find_element(By.ID, 'startTime'))\n",
    "select.select_by_value('08:00')\n",
    "select = Select(driver.find_element(By.ID, 'endTime'))\n",
    "select.select_by_value('12:00')\n",
    "driver.find_elements(by=By.XPATH, value=\"//input[@title='查詢']\")[0].click()\n",
    "for i in range(5):\n",
    "    driver.execute_script(\"window.scrollTo(0, 300)\") \n",
    "    sleep(3)"
   ]
  },
  {
   "cell_type": "code",
   "execution_count": null,
   "metadata": {},
   "outputs": [],
   "source": []
  }
 ],
 "metadata": {
  "kernelspec": {
   "display_name": "Python 3",
   "language": "python",
   "name": "python3"
  },
  "language_info": {
   "codemirror_mode": {
    "name": "ipython",
    "version": 3
   },
   "file_extension": ".py",
   "mimetype": "text/x-python",
   "name": "python",
   "nbconvert_exporter": "python",
   "pygments_lexer": "ipython3",
   "version": "3.9.13"
  },
  "orig_nbformat": 4
 },
 "nbformat": 4,
 "nbformat_minor": 2
}
