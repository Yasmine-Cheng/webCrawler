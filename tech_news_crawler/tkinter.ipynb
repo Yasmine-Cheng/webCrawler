{
 "cells": [
  {
   "attachments": {},
   "cell_type": "markdown",
   "metadata": {},
   "source": [
    "### import packages"
   ]
  },
  {
   "cell_type": "code",
   "execution_count": 1,
   "metadata": {},
   "outputs": [],
   "source": [
    "import tkinter as tk\n",
    "import pandas as pd\n",
    "from wordcloud import WordCloud\n",
    "import jieba\n",
    "import jieba.analyse\n",
    "from collections import Counter\n",
    "from PIL import ImageTk as itk"
   ]
  },
  {
   "attachments": {},
   "cell_type": "markdown",
   "metadata": {},
   "source": [
    "### global variables"
   ]
  },
  {
   "cell_type": "code",
   "execution_count": 2,
   "metadata": {},
   "outputs": [],
   "source": [
    "# 文字雲分辨字元\n",
    "dictfile = \"dict.txt\"\n",
    "# 文字雲去除無用字元\n",
    "stopfile = \"stopwords.txt\"\n",
    "# 文字雲中文視覺化繪圖要使用到的font family\n",
    "fontpath = \"NotoSerifTC-Bold.otf\"\n",
    "\n",
    "\n",
    "# 各家媒體做文字雲的data(取新聞標題)\n",
    "thenewslens_df = pd.read_csv('thenewslens.csv', index_col=0)\n",
    "thenewslens = ' '.join(thenewslens_df['title'])\n",
    "commonwealth_df = pd.read_csv('cw.csv', index_col=0)\n",
    "commonwealth = ' '.join(commonwealth_df['title'])\n",
    "businesstoday_df = pd.read_csv('businesstoday.csv', index_col=0)\n",
    "businesstoday = ' '.join(businesstoday_df['title'])"
   ]
  },
  {
   "attachments": {},
   "cell_type": "markdown",
   "metadata": {},
   "source": [
    "### tkinter setting and application"
   ]
  },
  {
   "cell_type": "code",
   "execution_count": 3,
   "metadata": {},
   "outputs": [
    {
     "name": "stderr",
     "output_type": "stream",
     "text": [
      "Building prefix dict from /Users/yasmine/Desktop/work/接案/爬蟲/tech_news_crawler/dict.txt ...\n",
      "Loading model from cache /var/folders/6f/v4g3dkkj0b54w0sc2l43bkqm0000gn/T/jieba.u9202be05f3725e4667d60e7c54b13fdb.cache\n",
      "Loading model cost 0.544 seconds.\n",
      "Prefix dict has been built successfully.\n",
      "Building prefix dict from /Users/yasmine/Desktop/work/接案/爬蟲/tech_news_crawler/dict.txt ...\n",
      "Loading model from cache /var/folders/6f/v4g3dkkj0b54w0sc2l43bkqm0000gn/T/jieba.u9202be05f3725e4667d60e7c54b13fdb.cache\n",
      "Loading model cost 0.558 seconds.\n",
      "Prefix dict has been built successfully.\n",
      "Building prefix dict from /Users/yasmine/Desktop/work/接案/爬蟲/tech_news_crawler/dict.txt ...\n",
      "Loading model from cache /var/folders/6f/v4g3dkkj0b54w0sc2l43bkqm0000gn/T/jieba.u9202be05f3725e4667d60e7c54b13fdb.cache\n",
      "Loading model cost 0.545 seconds.\n",
      "Prefix dict has been built successfully.\n"
     ]
    }
   ],
   "source": [
    "# 清除畫布，重讀新的文字雲視覺化產出\n",
    "def change_img():\n",
    "    canvas.delete(\"all\")\n",
    "    canvas.img = itk.PhotoImage(file= 'wordcloud.jpg')\n",
    "    canvas.create_image(0,0, anchor=tk.NW, image=canvas.img)\n",
    "\n",
    "# 確認被點擊的按鈕是哪一家媒體，並且執行該家媒體的文字雲視覺化圖表產出\n",
    "def result():\n",
    "    choice = radiostr.get()\n",
    "    if choice == '1':\n",
    "        target = businesstoday\n",
    "    elif choice == '2':\n",
    "        target = commonwealth\n",
    "    elif choice == '3':\n",
    "        target = thenewslens\n",
    "    jieba.set_dictionary(dictfile)\n",
    "    jieba.analyse.set_stop_words(stopfile)\n",
    "\n",
    "    tags = jieba.analyse.extract_tags(target, topK=30)\n",
    "    seg_list = jieba.lcut(target, cut_all=False)\n",
    "    dictionary = Counter(seg_list)\n",
    "\n",
    "    freq = {}\n",
    "    for ele in dictionary:\n",
    "        if ele in tags:\n",
    "            freq[ele] = dictionary[ele]\n",
    "\n",
    "    wordcloud = WordCloud(background_color=\"white\",\n",
    "                          contour_width=3, \n",
    "                          contour_color='steelblue', \n",
    "                          font_path= fontpath).generate_from_frequencies(freq)\n",
    "    # 將文字雲圖表存檔\n",
    "    wordcloud.to_file('wordcloud.jpg')\n",
    "    # 將應用擱置3000 milliseconds，並清除畫布\n",
    "    root.after(3000, change_img)\n",
    "\n",
    "# 開啟應用\n",
    "root = tk.Tk()\n",
    "# 設定頁面大小\n",
    "root.geometry('380x230')  \n",
    "# 無法讓使用者自由調整視窗長根寬\n",
    "root.resizable(False, False)\n",
    "\n",
    "fm_rad = tk.Frame()\n",
    "fm_rad.pack(anchor=tk.N)\n",
    "\n",
    "# 設置按鈕\n",
    "radiostr = tk.StringVar(None, 1)\n",
    "B1 = tk.Radiobutton(fm_rad, variable=radiostr, value='1', text='business today', bg='black',fg='white', font=('Arial', 15), command=result)\n",
    "B1.pack(side=tk.LEFT, anchor=tk.N)\n",
    "B2 = tk.Radiobutton(fm_rad, variable=radiostr, value='2', text='common wealth', bg='black',fg='white', font=('Arial', 15), command=result)\n",
    "B2.pack(side=tk.LEFT, anchor=tk.N)\n",
    "B3 = tk.Radiobutton(fm_rad, variable=radiostr, value='3', text='the news lens', bg='black',fg='white', font=('Arial', 15), command=result)\n",
    "B3.pack(side=tk.LEFT, anchor=tk.N)\n",
    "\n",
    "# 設置預設文字雲圖片及位置\n",
    "photo = itk.PhotoImage(file= 'businesstoday_wordcloud.jpg')\n",
    "canvas = tk.Canvas(root, width=500, height=500)\n",
    "canvas.imageList = []\n",
    "canvas.pack()\n",
    "canvas.create_image(0, 0, anchor=\"nw\", image=photo)\n",
    "canvas.imageList.append(photo)\n",
    "\n",
    "# 執行應用\n",
    "root.mainloop()"
   ]
  },
  {
   "cell_type": "code",
   "execution_count": null,
   "metadata": {},
   "outputs": [],
   "source": []
  }
 ],
 "metadata": {
  "interpreter": {
   "hash": "2b192e38a15b65487dc70e1b28cae8dfc26896e8a5ae5e75e202464c12cefa64"
  },
  "kernelspec": {
   "display_name": "Python 3.9.15 ('base')",
   "language": "python",
   "name": "python3"
  },
  "language_info": {
   "codemirror_mode": {
    "name": "ipython",
    "version": 3
   },
   "file_extension": ".py",
   "mimetype": "text/x-python",
   "name": "python",
   "nbconvert_exporter": "python",
   "pygments_lexer": "ipython3",
   "version": "3.9.15"
  },
  "orig_nbformat": 4
 },
 "nbformat": 4,
 "nbformat_minor": 2
}
