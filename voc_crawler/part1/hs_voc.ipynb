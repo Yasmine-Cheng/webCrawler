{
 "cells": [
  {
   "cell_type": "code",
   "execution_count": 3,
   "metadata": {},
   "outputs": [],
   "source": [
    "from bs4 import BeautifulSoup\n",
    "import requests\n",
    "import pandas as pd\n",
    "import string\n",
    "from random import randint\n",
    "from time import sleep\n",
    "import random\n",
    "import matplotlib.pyplot as plt\n",
    "plt.rcParams['font.sans-serif'] = ['Heiti TC']\n",
    "from PIL import ImageTk as itk\n",
    "import tkinter as tk"
   ]
  },
  {
   "cell_type": "code",
   "execution_count": 21,
   "metadata": {},
   "outputs": [],
   "source": [
    "def get_df(char):\n",
    "    URL = \"http://www.taiwantestcentral.com/wordlist/WordListByName.aspx?MainCategoryID=25&Letter={}\".format(char)\n",
    "    \n",
    "    HEADERS = ({'User-Agent':\n",
    "                'Mozilla/5.0 (X11; Linux x86_64) AppleWebKit/537.36 \\\n",
    "                (KHTML, like Gecko) Chrome/44.0.2403.157 Safari/537.36',\\\n",
    "                'Accept-Language': 'en-US, en;q=0.5'})\n",
    "    \n",
    "    webpage = requests.get(URL, headers=HEADERS)\n",
    "    soup = BeautifulSoup(webpage.content, \"html.parser\")\n",
    "\n",
    "    table = soup.find('table', {'class': 'WordList fg_highlight'})\n",
    "    ###\n",
    "    columns = [th.text.replace('\\n', '') for th in table.find('tr').find_all('th')]\n",
    "\n",
    "    trs = table.find_all('tr')[1:]\n",
    "    rows = list()\n",
    "    for tr in trs:\n",
    "        rows.append([td.text.replace('\\n', '').replace('\\xa0', '') for td in tr.find_all('td')])\n",
    "    ###\n",
    "    df = pd.DataFrame(data=rows, columns=columns)\n",
    "    df = df.drop('考題', axis=1)\n",
    "    df = df.rename(columns={'級別': 'classification', '字詞': 'vocab', '中文釋義':'chinese'})\n",
    "    return df"
   ]
  },
  {
   "cell_type": "code",
   "execution_count": null,
   "metadata": {},
   "outputs": [],
   "source": [
    "df = get_df('A')\n",
    "for i in list(string.ascii_uppercase)[1:]:\n",
    "    sleep(randint(1,10))\n",
    "    df = df.append(get_df(i), ignore_index=True)\n",
    "\n",
    "df = df.drop('', axis=1)\n",
    "df['chinese'] = df['chinese'].str.split('; ')\n",
    "df = df.explode('chinese')\n",
    "df[['pos', 'def']] = df['chinese'].str.split('] ', 1, expand=True)\n",
    "df['pos'] = df['pos'].str.replace('[', '', regex=True)\n",
    "df.to_csv('hs_voc.csv', encoding='utf-8-sig', columns=['classification', 'vocab', 'pos', 'def'])"
   ]
  },
  {
   "cell_type": "code",
   "execution_count": 4,
   "metadata": {},
   "outputs": [],
   "source": [
    "df = pd.read_csv('hs_voc.csv', index_col=0)\n",
    "df['classification'] = df['classification'].replace(['附\\u3000錄'],'附錄')\n",
    "item_dict = {k: [g[\"def\"].tolist(), list(set(g[\"classification\"].tolist()))] for k,g in df.groupby(\"vocab\")}"
   ]
  },
  {
   "cell_type": "code",
   "execution_count": 5,
   "metadata": {},
   "outputs": [],
   "source": [
    "def change_img():\n",
    "    canvas.delete(\"all\")\n",
    "    canvas.img = itk.PhotoImage(file= 'new_output.png')\n",
    "    canvas.create_image(30, 10, anchor=tk.NW, image=canvas.img)\n",
    "\n",
    "def button_event():\n",
    "    voc_list = random.choices(list(item_dict.keys()), k=10)\n",
    "    class_list = [item_dict[key][1][0] for key in voc_list]\n",
    "    def_list = [item_dict[key][0][0] for key in voc_list]\n",
    "    df = pd.DataFrame({'voc': voc_list, 'class':class_list, 'def':def_list })\n",
    "    ax = plt.axes(frame_on=False)# 不要額外框線\n",
    "    ax.xaxis.set_visible(False)  # 隱藏X軸刻度線\n",
    "    ax.yaxis.set_visible(False)  # 隱藏Y軸刻度線\n",
    "    ax.axis('tight')\n",
    "    ax.axis('off')\n",
    "    tmp = pd.plotting.table(ax, df, loc='center')\n",
    "    tmp.auto_set_font_size(False)\n",
    "    tmp.set_fontsize(10)\n",
    "    plt.savefig('new_output.png')\n",
    "    root.after(5000, change_img)"
   ]
  },
  {
   "cell_type": "code",
   "execution_count": 6,
   "metadata": {},
   "outputs": [],
   "source": [
    "root = tk.Tk()\n",
    "root.title('my window')\n",
    "root.geometry('500x350')\n",
    "\n",
    "mybutton = tk.Button(root, text='Send', command=button_event)\n",
    "mybutton.pack()\n",
    "\n",
    "photo = itk.PhotoImage(file= 'tmp.png')\n",
    "canvas = tk.Canvas(root, width=700, height=700)\n",
    "canvas.imageList = []\n",
    "canvas.pack()\n",
    "canvas.create_image(80, 0, anchor=tk.NW, image=photo)\n",
    "canvas.imageList.append(photo)\n",
    "\n",
    "root.mainloop()"
   ]
  },
  {
   "cell_type": "code",
   "execution_count": null,
   "metadata": {},
   "outputs": [],
   "source": []
  }
 ],
 "metadata": {
  "interpreter": {
   "hash": "397704579725e15f5c7cb49fe5f0341eb7531c82d19f2c29d197e8b64ab5776b"
  },
  "kernelspec": {
   "display_name": "Python 3.9.15 64-bit",
   "language": "python",
   "name": "python3"
  },
  "language_info": {
   "codemirror_mode": {
    "name": "ipython",
    "version": 3
   },
   "file_extension": ".py",
   "mimetype": "text/x-python",
   "name": "python",
   "nbconvert_exporter": "python",
   "pygments_lexer": "ipython3",
   "version": "3.9.15"
  },
  "orig_nbformat": 4
 },
 "nbformat": 4,
 "nbformat_minor": 2
}
