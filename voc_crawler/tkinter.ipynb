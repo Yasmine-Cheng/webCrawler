{
 "cells": [
  {
   "cell_type": "code",
   "execution_count": 3,
   "metadata": {},
   "outputs": [],
   "source": [
    "import pandas as pd\n",
    "from tkinter import *"
   ]
  },
  {
   "cell_type": "code",
   "execution_count": 4,
   "metadata": {},
   "outputs": [],
   "source": [
    "class Table:\n",
    "    def __init__(self,root):\n",
    "        # code for creating table\n",
    "        for i in range(total_rows):\n",
    "            for j in range(total_columns):\n",
    "                self.e = Entry(root, width=15, fg='blue',\n",
    "                                font=('Arial',8))\n",
    "                self.e.grid(row=i, column=j)\n",
    "                self.e.insert(END, lst[i][j])\n",
    "\n",
    "# take the data\n",
    "lst = [[1,'Raj','Mumbai',19],\n",
    "    [2,'Aaryan','Pune',18],\n",
    "    [3,'Vaishnavi','Mumbai',20],\n",
    "    [4,'Rachna','Mumbai',21],\n",
    "    [5,'Shubham','Delhi',21]]\n",
    "\n",
    "total_rows = len(lst)\n",
    "total_columns = len(lst[0])\n",
    "\n",
    "# create root window\n",
    "root = Tk()\n",
    "t = Table(root)\n",
    "root.mainloop()"
   ]
  },
  {
   "cell_type": "code",
   "execution_count": 10,
   "metadata": {},
   "outputs": [
    {
     "ename": "ModuleNotFoundError",
     "evalue": "No module named 'prettytable'",
     "output_type": "error",
     "traceback": [
      "\u001b[1;31m---------------------------------------------------------------------------\u001b[0m",
      "\u001b[1;31mModuleNotFoundError\u001b[0m                       Traceback (most recent call last)",
      "\u001b[1;32mc:\\Users\\ycheng06\\Downloads\\webCrawler-main\\webCrawler-main\\tech_news_crawler\\tkinter.ipynb Cell 3\u001b[0m in \u001b[0;36m<cell line: 1>\u001b[1;34m()\u001b[0m\n\u001b[1;32m----> <a href='vscode-notebook-cell:/c%3A/Users/ycheng06/Downloads/webCrawler-main/webCrawler-main/tech_news_crawler/tkinter.ipynb#W2sZmlsZQ%3D%3D?line=0'>1</a>\u001b[0m \u001b[39mfrom\u001b[39;00m \u001b[39mprettytable\u001b[39;00m \u001b[39mimport\u001b[39;00m PrettyTable\n\u001b[0;32m      <a href='vscode-notebook-cell:/c%3A/Users/ycheng06/Downloads/webCrawler-main/webCrawler-main/tech_news_crawler/tkinter.ipynb#W2sZmlsZQ%3D%3D?line=1'>2</a>\u001b[0m \u001b[39mfrom\u001b[39;00m \u001b[39mtkinter\u001b[39;00m \u001b[39mimport\u001b[39;00m \u001b[39m*\u001b[39m\n\u001b[0;32m      <a href='vscode-notebook-cell:/c%3A/Users/ycheng06/Downloads/webCrawler-main/webCrawler-main/tech_news_crawler/tkinter.ipynb#W2sZmlsZQ%3D%3D?line=3'>4</a>\u001b[0m win\u001b[39m=\u001b[39mTk()\n",
      "\u001b[1;31mModuleNotFoundError\u001b[0m: No module named 'prettytable'"
     ]
    }
   ],
   "source": [
    "from prettytable import PrettyTable\n",
    "from tkinter import *\n",
    "\n",
    "win=Tk()\n",
    "\n",
    "t=Text(win)#Inside text widget we would put our table\n",
    "\n",
    "x=PrettyTable()\n",
    "\n",
    "x.field_names = [\"City name\", \"Area\", \"Population\", \"Annual Rainfall\"]\n",
    "\n",
    "x.add_row([\"Adelaide\", 1295, 1158259, 600.5])\n",
    "x.add_row([\"Brisbane\", 5905, 1857594, 1146.4])\n",
    "x.add_row([\"Darwin\", 112, 120900, 1714.7])\n",
    "x.add_row([\"Hobart\", 1357, 205556, 619.5])\n",
    "x.add_row([\"Sydney\", 2058, 4336374, 1214.8])\n",
    "x.add_row([\"Melbourne\", 1566, 3806092, 646.9])\n",
    "x.add_row([\"Perth\", 5386, 1554769, 869.4])\n",
    "\n",
    "t.insert(INSERT,x)#Inserting table in text widget\n",
    "t.pack()\n",
    "\n",
    "win.mainloop()"
   ]
  },
  {
   "cell_type": "code",
   "execution_count": 13,
   "metadata": {},
   "outputs": [
    {
     "name": "stdout",
     "output_type": "stream",
     "text": [
      "Requirement already satisfied: prettytable in c:\\users\\ycheng06\\appdata\\local\\packages\\pythonsoftwarefoundation.python.3.10_qbz5n2kfra8p0\\localcache\\local-packages\\python310\\site-packages (3.5.0)\n",
      "Requirement already satisfied: wcwidth in c:\\users\\ycheng06\\appdata\\local\\packages\\pythonsoftwarefoundation.python.3.10_qbz5n2kfra8p0\\localcache\\local-packages\\python310\\site-packages (from prettytable) (0.2.5)\n"
     ]
    }
   ],
   "source": [
    "!pip3 install prettytable"
   ]
  },
  {
   "cell_type": "code",
   "execution_count": 12,
   "metadata": {},
   "outputs": [
    {
     "name": "stdout",
     "output_type": "stream",
     "text": [
      "Requirement already satisfied: pip in c:\\users\\ycheng06\\appdata\\local\\packages\\pythonsoftwarefoundation.python.3.10_qbz5n2kfra8p0\\localcache\\local-packages\\python310\\site-packages (22.3.1)\n"
     ]
    }
   ],
   "source": [
    "!pip3 install --upgrade pip"
   ]
  },
  {
   "cell_type": "code",
   "execution_count": null,
   "metadata": {},
   "outputs": [],
   "source": []
  }
 ],
 "metadata": {
  "kernelspec": {
   "display_name": "Python 3",
   "language": "python",
   "name": "python3"
  },
  "language_info": {
   "codemirror_mode": {
    "name": "ipython",
    "version": 3
   },
   "file_extension": ".py",
   "mimetype": "text/x-python",
   "name": "python",
   "nbconvert_exporter": "python",
   "pygments_lexer": "ipython3",
   "version": "3.10.6"
  },
  "orig_nbformat": 4,
  "vscode": {
   "interpreter": {
    "hash": "e833022fc8f0bbdb4fc7c304284604094072fdaa8d88a00760cc88ab148e656b"
   }
  }
 },
 "nbformat": 4,
 "nbformat_minor": 2
}
