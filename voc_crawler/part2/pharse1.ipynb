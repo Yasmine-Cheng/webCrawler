{
 "cells": [
  {
   "cell_type": "code",
   "execution_count": 1,
   "metadata": {},
   "outputs": [],
   "source": [
    "import re\n",
    "from PyPDF2 import PdfReader\n",
    "import pandas as pd\n",
    "import warnings\n",
    "warnings.filterwarnings(\"ignore\")\n",
    "\n",
    "reader = PdfReader('phrase1.pdf')\n",
    "text = \"\"\n",
    "for page in reader.pages:\n",
    "    text += page.extract_text() + \"\\n\""
   ]
  },
  {
   "cell_type": "code",
   "execution_count": 2,
   "metadata": {},
   "outputs": [],
   "source": [
    "# text\n",
    "tmp = text.split('\\n')\n",
    "tmp = [x.rstrip().lstrip() for x in tmp if len(re.findall(r'[\\u2E80-\\u9FFF]', x))!=0]\n",
    "tmp = [i for i in tmp if re.search(r'(?=\\.?[A-Z0-9])',i) is None]"
   ]
  },
  {
   "cell_type": "code",
   "execution_count": 3,
   "metadata": {},
   "outputs": [],
   "source": [
    "new = []\n",
    "for i in tmp:\n",
    "    delimiter = re.findall(r'[\\u2E80-\\u9FFF]', i)[0]\n",
    "    i = [x for x in i.split(delimiter, 1) if x]\n",
    "    if len(i)>1:\n",
    "        i[0] = i[0].rstrip()\n",
    "        i[1] = delimiter+i[1]\n",
    "        new.append(i)\n",
    "    else:\n",
    "        new[-1][1] = new[-1][1]+i[0]"
   ]
  },
  {
   "cell_type": "code",
   "execution_count": 4,
   "metadata": {},
   "outputs": [],
   "source": [
    "df = pd.DataFrame(new, columns = ['phrase', 'chinese'])\n",
    "# pd.set_option('display.max_rows', None)\n",
    "df2 =  df[df['phrase'].str[-1]=='(']\n",
    "df2['phrase'] = df2['phrase'].str[:-1]\n",
    "df2['chinese'] = '(' + df2['chinese'].astype(str)\n",
    "df.update(df2)"
   ]
  },
  {
   "cell_type": "code",
   "execution_count": 5,
   "metadata": {},
   "outputs": [
    {
     "data": {
      "text/html": [
       "<div>\n",
       "<style scoped>\n",
       "    .dataframe tbody tr th:only-of-type {\n",
       "        vertical-align: middle;\n",
       "    }\n",
       "\n",
       "    .dataframe tbody tr th {\n",
       "        vertical-align: top;\n",
       "    }\n",
       "\n",
       "    .dataframe thead th {\n",
       "        text-align: right;\n",
       "    }\n",
       "</style>\n",
       "<table border=\"1\" class=\"dataframe\">\n",
       "  <thead>\n",
       "    <tr style=\"text-align: right;\">\n",
       "      <th></th>\n",
       "      <th>phrase</th>\n",
       "      <th>chinese</th>\n",
       "    </tr>\n",
       "  </thead>\n",
       "  <tbody>\n",
       "    <tr>\n",
       "      <th>0</th>\n",
       "      <td>be about to do something</td>\n",
       "      <td>即將，將要做某事</td>\n",
       "    </tr>\n",
       "    <tr>\n",
       "      <th>1</th>\n",
       "      <td>by accident</td>\n",
       "      <td>偶然地，意外地</td>\n",
       "    </tr>\n",
       "    <tr>\n",
       "      <th>2</th>\n",
       "      <td>in accord (with . . . )  (fml.)</td>\n",
       "      <td>與…一致，融洽</td>\n",
       "    </tr>\n",
       "    <tr>\n",
       "      <th>3</th>\n",
       "      <td>on account of . . .  (fml.)</td>\n",
       "      <td>因為 …</td>\n",
       "    </tr>\n",
       "    <tr>\n",
       "      <th>4</th>\n",
       "      <td>act on something</td>\n",
       "      <td>根據某物行事</td>\n",
       "    </tr>\n",
       "    <tr>\n",
       "      <th>...</th>\n",
       "      <td>...</td>\n",
       "      <td>...</td>\n",
       "    </tr>\n",
       "    <tr>\n",
       "      <th>342</th>\n",
       "      <td>in other  words</td>\n",
       "      <td>換句話說</td>\n",
       "    </tr>\n",
       "    <tr>\n",
       "      <th>343</th>\n",
       "      <td>be lost for words</td>\n",
       "      <td>(因驚訝、難過等 ) 說不出話，無言</td>\n",
       "    </tr>\n",
       "    <tr>\n",
       "      <th>344</th>\n",
       "      <td>work out</td>\n",
       "      <td>成功地發展</td>\n",
       "    </tr>\n",
       "    <tr>\n",
       "      <th>345</th>\n",
       "      <td>work on something</td>\n",
       "      <td>致力於某事</td>\n",
       "    </tr>\n",
       "    <tr>\n",
       "      <th>346</th>\n",
       "      <td>be worried sick</td>\n",
       "      <td>極度擔心</td>\n",
       "    </tr>\n",
       "  </tbody>\n",
       "</table>\n",
       "<p>347 rows × 2 columns</p>\n",
       "</div>"
      ],
      "text/plain": [
       "                              phrase             chinese\n",
       "0           be about to do something            即將，將要做某事\n",
       "1                        by accident             偶然地，意外地\n",
       "2    in accord (with . . . )  (fml.)             與…一致，融洽\n",
       "3        on account of . . .  (fml.)                因為 …\n",
       "4                   act on something              根據某物行事\n",
       "..                               ...                 ...\n",
       "342                  in other  words                換句話說\n",
       "343              be lost for words    (因驚訝、難過等 ) 說不出話，無言\n",
       "344                         work out               成功地發展\n",
       "345                work on something               致力於某事\n",
       "346                  be worried sick                極度擔心\n",
       "\n",
       "[347 rows x 2 columns]"
      ]
     },
     "execution_count": 5,
     "metadata": {},
     "output_type": "execute_result"
    }
   ],
   "source": [
    "df.to_csv('phrase1.csv', encoding='utf-8-sig')\n",
    "tmp = pd.read_csv('phrase1.csv', index_col=0)\n",
    "tmp"
   ]
  }
 ],
 "metadata": {
  "interpreter": {
   "hash": "397704579725e15f5c7cb49fe5f0341eb7531c82d19f2c29d197e8b64ab5776b"
  },
  "kernelspec": {
   "display_name": "Python 3.9.15 64-bit",
   "language": "python",
   "name": "python3"
  },
  "language_info": {
   "codemirror_mode": {
    "name": "ipython",
    "version": 3
   },
   "file_extension": ".py",
   "mimetype": "text/x-python",
   "name": "python",
   "nbconvert_exporter": "python",
   "pygments_lexer": "ipython3",
   "version": "3.9.15"
  },
  "orig_nbformat": 4
 },
 "nbformat": 4,
 "nbformat_minor": 2
}
