{
 "cells": [
  {
   "cell_type": "code",
   "execution_count": 1,
   "metadata": {},
   "outputs": [],
   "source": [
    "import re\n",
    "from PyPDF2 import PdfReader\n",
    "import pandas as pd\n",
    "import warnings\n",
    "warnings.filterwarnings(\"ignore\")\n",
    "\n",
    "reader = PdfReader('phrase2.pdf')\n",
    "text = \"\"\n",
    "for page in reader.pages:\n",
    "    text += page.extract_text() + \"\\n\"\n",
    "\n",
    "# text\n",
    "tmp = text.split('\\n')\n",
    "tmp = [x.rstrip().lstrip() for x in tmp if re.search(r'^[0-9]', x) is not None]"
   ]
  },
  {
   "cell_type": "code",
   "execution_count": 2,
   "metadata": {},
   "outputs": [],
   "source": [
    "# year_exam = [x.rstrip().lstrip() for x in tmp if any(y in x for y in ['學測', '指考'])]\n",
    "year_exam = [x.split(' ',1) for x in tmp if re.search(r'^[0-9]+\\.', x) is None]\n",
    "phrase = [x.split(' ',1) for x in tmp if re.search(r'^[0-9]+\\.', x) is not None]\n",
    "phrase = [[i[0], i[1].replace('(1) ','@').replace(' (2) ', ';').replace(' (3) ', ';').replace(' (4) ', ';')] for i in phrase]"
   ]
  },
  {
   "cell_type": "code",
   "execution_count": 3,
   "metadata": {},
   "outputs": [],
   "source": [
    "new_phrase = []\n",
    "for i in phrase:\n",
    "    if '@' in i[1]:\n",
    "        i = [i[0], i[1].split('@')]\n",
    "    else:\n",
    "        delimiter = re.findall(r'[\\u2E80-\\u9FFF]', i[1])[0]\n",
    "        i = [i[0], [x for x in i[1].split(delimiter, 1) if x]]\n",
    "        i[1][1] = delimiter+i[1][1]\n",
    "    new_phrase.append(i)"
   ]
  },
  {
   "cell_type": "code",
   "execution_count": 4,
   "metadata": {},
   "outputs": [],
   "source": [
    "outer_list = []\n",
    "inner_list = []\n",
    "inner_list.append(new_phrase[0][1])\n",
    "for i in new_phrase[1:]:\n",
    "    if i[0]!='1.':\n",
    "        inner_list.append(i[1])\n",
    "    else:\n",
    "        outer_list.append(inner_list)\n",
    "        inner_list = []\n",
    "        inner_list.append(i[1])\n",
    "outer_list.append(inner_list)"
   ]
  },
  {
   "cell_type": "code",
   "execution_count": 5,
   "metadata": {},
   "outputs": [],
   "source": [
    "df = pd.DataFrame({'year_exam' : year_exam,\n",
    "                    'v1_phrase' : outer_list}, \n",
    "                    columns=['year_exam','v1_phrase'])\n",
    "# df"
   ]
  },
  {
   "cell_type": "code",
   "execution_count": 6,
   "metadata": {},
   "outputs": [],
   "source": [
    "df[['year', 'order']] = df['year_exam'].apply(pd.Series)\n",
    "df = df.explode('v1_phrase')\n",
    "df[['phrase', 'chinese']] = df['v1_phrase'].apply(pd.Series)\n",
    "df.reset_index(drop=True, inplace=True)\n",
    "# df"
   ]
  },
  {
   "cell_type": "code",
   "execution_count": 7,
   "metadata": {},
   "outputs": [
    {
     "data": {
      "text/html": [
       "<div>\n",
       "<style scoped>\n",
       "    .dataframe tbody tr th:only-of-type {\n",
       "        vertical-align: middle;\n",
       "    }\n",
       "\n",
       "    .dataframe tbody tr th {\n",
       "        vertical-align: top;\n",
       "    }\n",
       "\n",
       "    .dataframe thead th {\n",
       "        text-align: right;\n",
       "    }\n",
       "</style>\n",
       "<table border=\"1\" class=\"dataframe\">\n",
       "  <thead>\n",
       "    <tr style=\"text-align: right;\">\n",
       "      <th></th>\n",
       "      <th>order</th>\n",
       "      <th>year</th>\n",
       "      <th>phrase</th>\n",
       "      <th>chinese</th>\n",
       "    </tr>\n",
       "  </thead>\n",
       "  <tbody>\n",
       "    <tr>\n",
       "      <th>0</th>\n",
       "      <td>指考</td>\n",
       "      <td>110</td>\n",
       "      <td>wear out</td>\n",
       "      <td>磨損 ; 耗盡</td>\n",
       "    </tr>\n",
       "    <tr>\n",
       "      <th>1</th>\n",
       "      <td>指考</td>\n",
       "      <td>110</td>\n",
       "      <td>break through</td>\n",
       "      <td>突破 ; 打破</td>\n",
       "    </tr>\n",
       "    <tr>\n",
       "      <th>2</th>\n",
       "      <td>指考</td>\n",
       "      <td>110</td>\n",
       "      <td>heat up</td>\n",
       "      <td>加熱 ; 使 ... 變暖</td>\n",
       "    </tr>\n",
       "    <tr>\n",
       "      <th>3</th>\n",
       "      <td>指考</td>\n",
       "      <td>110</td>\n",
       "      <td>in short</td>\n",
       "      <td>總⽽⾔之 ; 簡⽽⾔之</td>\n",
       "    </tr>\n",
       "    <tr>\n",
       "      <th>4</th>\n",
       "      <td>指考</td>\n",
       "      <td>109</td>\n",
       "      <td>serve as</td>\n",
       "      <td>充當 ; 起 … 的作⽤</td>\n",
       "    </tr>\n",
       "    <tr>\n",
       "      <th>...</th>\n",
       "      <td>...</td>\n",
       "      <td>...</td>\n",
       "      <td>...</td>\n",
       "      <td>...</td>\n",
       "    </tr>\n",
       "    <tr>\n",
       "      <th>223</th>\n",
       "      <td>學測</td>\n",
       "      <td>100</td>\n",
       "      <td>turn out</td>\n",
       "      <td>結果是</td>\n",
       "    </tr>\n",
       "    <tr>\n",
       "      <th>224</th>\n",
       "      <td>學測</td>\n",
       "      <td>100</td>\n",
       "      <td>appeal to</td>\n",
       "      <td>吸引</td>\n",
       "    </tr>\n",
       "    <tr>\n",
       "      <th>225</th>\n",
       "      <td>學測</td>\n",
       "      <td>100</td>\n",
       "      <td>be presented with</td>\n",
       "      <td>獲贈</td>\n",
       "    </tr>\n",
       "    <tr>\n",
       "      <th>226</th>\n",
       "      <td>學測</td>\n",
       "      <td>100</td>\n",
       "      <td>result in</td>\n",
       "      <td>造成 ; 導致</td>\n",
       "    </tr>\n",
       "    <tr>\n",
       "      <th>227</th>\n",
       "      <td>學測</td>\n",
       "      <td>100</td>\n",
       "      <td>bring about</td>\n",
       "      <td>造成 ; 引起</td>\n",
       "    </tr>\n",
       "  </tbody>\n",
       "</table>\n",
       "<p>228 rows × 4 columns</p>\n",
       "</div>"
      ],
      "text/plain": [
       "    order  year              phrase        chinese\n",
       "0      指考   110           wear out         磨損 ; 耗盡\n",
       "1      指考   110      break through         突破 ; 打破\n",
       "2      指考   110            heat up   加熱 ; 使 ... 變暖\n",
       "3      指考   110           in short     總⽽⾔之 ; 簡⽽⾔之\n",
       "4      指考   109           serve as    充當 ; 起 … 的作⽤\n",
       "..    ...   ...                 ...            ...\n",
       "223    學測   100           turn out             結果是\n",
       "224    學測   100          appeal to              吸引\n",
       "225    學測   100  be presented with              獲贈\n",
       "226    學測   100          result in         造成 ; 導致\n",
       "227    學測   100        bring about         造成 ; 引起\n",
       "\n",
       "[228 rows x 4 columns]"
      ]
     },
     "execution_count": 7,
     "metadata": {},
     "output_type": "execute_result"
    }
   ],
   "source": [
    "df.to_csv('phrase2.csv', encoding='utf-8-sig', columns=['order', 'year', 'phrase', 'chinese'])\n",
    "tmp = pd.read_csv('phrase2.csv', index_col=0)\n",
    "# pd.set_option('display.max_rows', None)\n",
    "tmp"
   ]
  },
  {
   "cell_type": "code",
   "execution_count": null,
   "metadata": {},
   "outputs": [],
   "source": []
  }
 ],
 "metadata": {
  "interpreter": {
   "hash": "397704579725e15f5c7cb49fe5f0341eb7531c82d19f2c29d197e8b64ab5776b"
  },
  "kernelspec": {
   "display_name": "Python 3.9.15 64-bit",
   "language": "python",
   "name": "python3"
  },
  "language_info": {
   "codemirror_mode": {
    "name": "ipython",
    "version": 3
   },
   "file_extension": ".py",
   "mimetype": "text/x-python",
   "name": "python",
   "nbconvert_exporter": "python",
   "pygments_lexer": "ipython3",
   "version": "3.9.15"
  },
  "orig_nbformat": 4
 },
 "nbformat": 4,
 "nbformat_minor": 2
}
