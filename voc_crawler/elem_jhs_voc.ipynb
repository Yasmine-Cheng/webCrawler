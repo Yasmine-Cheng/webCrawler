{
 "cells": [
  {
   "cell_type": "code",
   "execution_count": 1,
   "metadata": {},
   "outputs": [],
   "source": [
    "from bs4 import BeautifulSoup\n",
    "import requests\n",
    "import pandas as pd"
   ]
  },
  {
   "cell_type": "code",
   "execution_count": 1,
   "metadata": {},
   "outputs": [],
   "source": [
    "URL = \"http://www.taiwantestcentral.com/wordlist/BCTWordList.aspx?CategoryID=12\"\n",
    "  \n",
    "HEADERS = ({'User-Agent':\n",
    "            'Mozilla/5.0 (X11; Linux x86_64) AppleWebKit/537.36 \\\n",
    "            (KHTML, like Gecko) Chrome/44.0.2403.157 Safari/537.36',\\\n",
    "            'Accept-Language': 'en-US, en;q=0.5'})\n",
    "  \n",
    "webpage = requests.get(URL, headers=HEADERS)\n",
    "soup = BeautifulSoup(webpage.content, \"html.parser\")\n",
    "\n",
    "voc = [i.get_text() for i in soup.find_all(attrs={'class': 'nowrap'})]\n",
    "chinese = [i.get_text() for i in soup.find_all(attrs={'class': 'Chinese'})]"
   ]
  },
  {
   "cell_type": "code",
   "execution_count": null,
   "metadata": {},
   "outputs": [],
   "source": [
    "df = pd.DataFrame((zip(voc, chinese)), columns = ['vocab', 'chinese'])\n",
    "df['chinese'] = df['chinese'].str.split('; ')\n",
    "df = df.explode('chinese')\n",
    "df[['pos', 'def']] = df['chinese'].str.split('] ', 1, expand=True)\n",
    "df['pos'] = df['pos'].str.replace('[', '', regex=True)\n",
    "df.to_csv('elem_jhs_voc.csv', encoding='utf-8-sig', columns=['vocab', 'pos', 'def'])"
   ]
  },
  {
   "cell_type": "code",
   "execution_count": 3,
   "metadata": {},
   "outputs": [
    {
     "data": {
      "text/html": [
       "<div>\n",
       "<style scoped>\n",
       "    .dataframe tbody tr th:only-of-type {\n",
       "        vertical-align: middle;\n",
       "    }\n",
       "\n",
       "    .dataframe tbody tr th {\n",
       "        vertical-align: top;\n",
       "    }\n",
       "\n",
       "    .dataframe thead th {\n",
       "        text-align: right;\n",
       "    }\n",
       "</style>\n",
       "<table border=\"1\" class=\"dataframe\">\n",
       "  <thead>\n",
       "    <tr style=\"text-align: right;\">\n",
       "      <th></th>\n",
       "      <th>vocab</th>\n",
       "      <th>pos</th>\n",
       "      <th>def</th>\n",
       "    </tr>\n",
       "  </thead>\n",
       "  <tbody>\n",
       "    <tr>\n",
       "      <th>0</th>\n",
       "      <td>a</td>\n",
       "      <td>冠詞</td>\n",
       "      <td>一個;一種</td>\n",
       "    </tr>\n",
       "    <tr>\n",
       "      <th>1</th>\n",
       "      <td>a few</td>\n",
       "      <td>片語</td>\n",
       "      <td>一些</td>\n",
       "    </tr>\n",
       "    <tr>\n",
       "      <th>2</th>\n",
       "      <td>a little</td>\n",
       "      <td>片語</td>\n",
       "      <td>一點點</td>\n",
       "    </tr>\n",
       "    <tr>\n",
       "      <th>3</th>\n",
       "      <td>a lot</td>\n",
       "      <td>片語</td>\n",
       "      <td>很多</td>\n",
       "    </tr>\n",
       "    <tr>\n",
       "      <th>4</th>\n",
       "      <td>A.M.</td>\n",
       "      <td>副詞</td>\n",
       "      <td>上午</td>\n",
       "    </tr>\n",
       "    <tr>\n",
       "      <th>...</th>\n",
       "      <td>...</td>\n",
       "      <td>...</td>\n",
       "      <td>...</td>\n",
       "    </tr>\n",
       "    <tr>\n",
       "      <th>1247</th>\n",
       "      <td>zebra</td>\n",
       "      <td>名詞</td>\n",
       "      <td>斑馬</td>\n",
       "    </tr>\n",
       "    <tr>\n",
       "      <th>1248</th>\n",
       "      <td>zero</td>\n",
       "      <td>形容詞</td>\n",
       "      <td>零的</td>\n",
       "    </tr>\n",
       "    <tr>\n",
       "      <th>1248</th>\n",
       "      <td>zero</td>\n",
       "      <td>動詞</td>\n",
       "      <td>把...調整歸零</td>\n",
       "    </tr>\n",
       "    <tr>\n",
       "      <th>1248</th>\n",
       "      <td>zero</td>\n",
       "      <td>名詞</td>\n",
       "      <td>零</td>\n",
       "    </tr>\n",
       "    <tr>\n",
       "      <th>1249</th>\n",
       "      <td>zoo</td>\n",
       "      <td>名詞</td>\n",
       "      <td>動物園</td>\n",
       "    </tr>\n",
       "  </tbody>\n",
       "</table>\n",
       "<p>2046 rows × 3 columns</p>\n",
       "</div>"
      ],
      "text/plain": [
       "         vocab  pos       def\n",
       "0            a   冠詞     一個;一種\n",
       "1        a few   片語        一些\n",
       "2     a little   片語       一點點\n",
       "3        a lot   片語        很多\n",
       "4         A.M.   副詞        上午\n",
       "...        ...  ...       ...\n",
       "1247     zebra   名詞        斑馬\n",
       "1248      zero  形容詞        零的\n",
       "1248      zero   動詞  把...調整歸零\n",
       "1248      zero   名詞         零\n",
       "1249       zoo   名詞       動物園\n",
       "\n",
       "[2046 rows x 3 columns]"
      ]
     },
     "execution_count": 3,
     "metadata": {},
     "output_type": "execute_result"
    }
   ],
   "source": [
    "tmp = pd.read_csv('elem_jhs_voc.csv', index_col=0)\n",
    "tmp"
   ]
  },
  {
   "cell_type": "code",
   "execution_count": null,
   "metadata": {},
   "outputs": [],
   "source": []
  }
 ],
 "metadata": {
  "interpreter": {
   "hash": "397704579725e15f5c7cb49fe5f0341eb7531c82d19f2c29d197e8b64ab5776b"
  },
  "kernelspec": {
   "display_name": "Python 3.9.15 64-bit",
   "language": "python",
   "name": "python3"
  },
  "language_info": {
   "codemirror_mode": {
    "name": "ipython",
    "version": 3
   },
   "file_extension": ".py",
   "mimetype": "text/x-python",
   "name": "python",
   "nbconvert_exporter": "python",
   "pygments_lexer": "ipython3",
   "version": "3.9.15"
  },
  "orig_nbformat": 4
 },
 "nbformat": 4,
 "nbformat_minor": 2
}
