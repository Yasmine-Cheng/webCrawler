{
 "cells": [
  {
   "cell_type": "code",
   "execution_count": 9,
   "metadata": {},
   "outputs": [],
   "source": [
    "import pandas as pd"
   ]
  },
  {
   "cell_type": "code",
   "execution_count": 10,
   "metadata": {},
   "outputs": [],
   "source": [
    "franklin = pd.read_csv('franklin.csv', index_col=0)\n",
    "yuanta = pd.read_csv('yuanta.csv', index_col=0)\n",
    "allianz = pd.read_csv('allianz.csv', index_col=0)\n",
    "jpmorgan = pd.read_csv('jpmorgan.csv', index_col=0)\n",
    "nomura = pd.read_csv('nomura.csv', index_col=0)"
   ]
  },
  {
   "cell_type": "code",
   "execution_count": 11,
   "metadata": {},
   "outputs": [
    {
     "data": {
      "text/html": [
       "<div>\n",
       "<style scoped>\n",
       "    .dataframe tbody tr th:only-of-type {\n",
       "        vertical-align: middle;\n",
       "    }\n",
       "\n",
       "    .dataframe tbody tr th {\n",
       "        vertical-align: top;\n",
       "    }\n",
       "\n",
       "    .dataframe thead th {\n",
       "        text-align: right;\n",
       "    }\n",
       "</style>\n",
       "<table border=\"1\" class=\"dataframe\">\n",
       "  <thead>\n",
       "    <tr style=\"text-align: right;\">\n",
       "      <th></th>\n",
       "      <th>基金</th>\n",
       "      <th>漲：數目</th>\n",
       "      <th>跌：數目</th>\n",
       "    </tr>\n",
       "  </thead>\n",
       "  <tbody>\n",
       "    <tr>\n",
       "      <th>0</th>\n",
       "      <td>富蘭克林</td>\n",
       "      <td>70</td>\n",
       "      <td>59</td>\n",
       "    </tr>\n",
       "    <tr>\n",
       "      <th>1</th>\n",
       "      <td>元大</td>\n",
       "      <td>19</td>\n",
       "      <td>37</td>\n",
       "    </tr>\n",
       "    <tr>\n",
       "      <th>2</th>\n",
       "      <td>安聯</td>\n",
       "      <td>36</td>\n",
       "      <td>58</td>\n",
       "    </tr>\n",
       "    <tr>\n",
       "      <th>3</th>\n",
       "      <td>摩根大通</td>\n",
       "      <td>20</td>\n",
       "      <td>18</td>\n",
       "    </tr>\n",
       "    <tr>\n",
       "      <th>4</th>\n",
       "      <td>野村投信</td>\n",
       "      <td>121</td>\n",
       "      <td>72</td>\n",
       "    </tr>\n",
       "  </tbody>\n",
       "</table>\n",
       "</div>"
      ],
      "text/plain": [
       "     基金  漲：數目  跌：數目\n",
       "0  富蘭克林    70    59\n",
       "1    元大    19    37\n",
       "2    安聯    36    58\n",
       "3  摩根大通    20    18\n",
       "4  野村投信   121    72"
      ]
     },
     "execution_count": 11,
     "metadata": {},
     "output_type": "execute_result"
    }
   ],
   "source": [
    "franklin = ['富蘭克林', len(franklin[franklin['漲跌']>0]), len(franklin[franklin['漲跌']<=0])]\n",
    "yuanta = ['元大', len(yuanta[yuanta['漲跌']>0]), len(yuanta[yuanta['漲跌']<=0])]\n",
    "allianz = ['安聯', len(allianz[allianz['漲跌']>0]), len(allianz[allianz['漲跌']<=0])]\n",
    "jpmorgan = ['摩根大通', len(jpmorgan[jpmorgan['漲跌']>0]), len(jpmorgan[jpmorgan['漲跌']<=0])]\n",
    "nomura = ['野村投信', len(nomura[nomura['漲跌']>0]), len(nomura[nomura['漲跌']<=0])]\n",
    "\n",
    "new_df = pd.DataFrame(columns=['基金', '漲：數目', '跌：數目'], data=[franklin, yuanta, allianz, jpmorgan, nomura])\n",
    "new_df.to_csv('漲跌數目.csv', encoding='utf-8-sig')\n",
    "tmp = pd.read_csv('漲跌數目.csv', index_col=0)\n",
    "tmp"
   ]
  },
  {
   "cell_type": "markdown",
   "metadata": {},
   "source": [
    "---\n",
    "---"
   ]
  },
  {
   "cell_type": "code",
   "execution_count": null,
   "metadata": {},
   "outputs": [],
   "source": []
  }
 ],
 "metadata": {
  "interpreter": {
   "hash": "397704579725e15f5c7cb49fe5f0341eb7531c82d19f2c29d197e8b64ab5776b"
  },
  "kernelspec": {
   "display_name": "Python 3.9.15 64-bit",
   "language": "python",
   "name": "python3"
  },
  "language_info": {
   "codemirror_mode": {
    "name": "ipython",
    "version": 3
   },
   "file_extension": ".py",
   "mimetype": "text/x-python",
   "name": "python",
   "nbconvert_exporter": "python",
   "pygments_lexer": "ipython3",
   "version": "3.9.15"
  },
  "orig_nbformat": 4
 },
 "nbformat": 4,
 "nbformat_minor": 2
}
